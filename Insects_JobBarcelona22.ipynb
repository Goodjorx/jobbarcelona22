{
  "nbformat": 4,
  "nbformat_minor": 0,
  "metadata": {
    "colab": {
      "name": "Insects_JobBarcelona22.ipynb",
      "provenance": [],
      "authorship_tag": "ABX9TyN7BmonSEDjAgI4s9HChpd8",
      "include_colab_link": true
    },
    "kernelspec": {
      "name": "python3",
      "display_name": "Python 3"
    },
    "language_info": {
      "name": "python"
    },
    "accelerator": "GPU"
  },
  "cells": [
    {
      "cell_type": "markdown",
      "metadata": {
        "id": "view-in-github",
        "colab_type": "text"
      },
      "source": [
        "<a href=\"https://colab.research.google.com/github/Goodjorx/jobbarcelona22/blob/main/Insects_JobBarcelona22.ipynb\" target=\"_parent\"><img src=\"https://colab.research.google.com/assets/colab-badge.svg\" alt=\"Open In Colab\"/></a>"
      ]
    },
    {
      "cell_type": "code",
      "execution_count": 1,
      "metadata": {
        "id": "uDXOwjsl8UGp"
      },
      "outputs": [],
      "source": [
        "import pandas as pd\n",
        "from fastai.basics import *\n",
        "from fastai.tabular import * \n",
        "\n",
        "\n",
        "import numpy as np\n",
        "import scipy\n",
        "from scipy.stats import normaltest\n",
        "from scipy import pi\n",
        "from scipy.fftpack import fft\n",
        "from scipy.signal import spectrogram, cwt\n",
        "\n",
        "import plotly.express as px\n",
        "import plotly.graph_objects as go\n",
        "from plotly.subplots import make_subplots\n",
        "import matplotlib.pyplot as plt\n",
        "import seaborn as sns\n",
        "\n",
        "\n",
        "from sklearn.model_selection import train_test_split\n",
        "from sklearn.ensemble import RandomForestClassifier\n",
        "from sklearn.metrics import confusion_matrix, plot_confusion_matrix, ConfusionMatrixDisplay\n",
        "\n",
        "# from tsai.all import *"
      ]
    },
    {
      "cell_type": "code",
      "source": [
        "from google.colab import drive\n",
        "drive.mount('/content/drive')"
      ],
      "metadata": {
        "colab": {
          "base_uri": "https://localhost:8080/"
        },
        "id": "wYmOhNvDTUN7",
        "outputId": "d9283299-9136-4504-df49-f9b235b16813"
      },
      "execution_count": 2,
      "outputs": [
        {
          "output_type": "stream",
          "name": "stdout",
          "text": [
            "Mounted at /content/drive\n"
          ]
        }
      ]
    },
    {
      "cell_type": "code",
      "source": [
        "df = pd.read_csv('/content/drive/MyDrive/Colab Notebooks/Insects_Hackathon/train.csv', index_col=0)\n",
        "df.head(5)"
      ],
      "metadata": {
        "colab": {
          "base_uri": "https://localhost:8080/",
          "height": 206
        },
        "id": "E2vSWV5a8rIA",
        "outputId": "0ccab429-a700-4443-ca19-6c020e7f1172"
      },
      "execution_count": 4,
      "outputs": [
        {
          "output_type": "execute_result",
          "data": {
            "text/plain": [
              "   Hour  Minutes  Sensor_alpha  Sensor_beta  Sensor_gamma  Sensor_alpha_plus  \\\n",
              "0    22       26    119.910995   242.838324   -316.819222         250.195048   \n",
              "1    10       16    -90.790536  -269.470767   -182.581844          95.394941   \n",
              "2    21       42    -20.028003  -147.070212     50.280872         -90.750386   \n",
              "3    21       17    -21.258567     0.467070    -86.164153         -21.813529   \n",
              "4    18       16    -58.154501   -13.051195   -156.501167          48.392938   \n",
              "\n",
              "   Sensor_beta_plus  Sensor_gamma_plus  Insect  \n",
              "0        -53.547777        -112.049983       2  \n",
              "1         37.291944          48.525180       0  \n",
              "2        -50.476556          85.399009       1  \n",
              "3       -209.256006          16.291882       0  \n",
              "4       -110.008860         -10.285138       2  "
            ],
            "text/html": [
              "\n",
              "  <div id=\"df-4d39a7b1-d233-4367-8e41-3e298f362fa0\">\n",
              "    <div class=\"colab-df-container\">\n",
              "      <div>\n",
              "<style scoped>\n",
              "    .dataframe tbody tr th:only-of-type {\n",
              "        vertical-align: middle;\n",
              "    }\n",
              "\n",
              "    .dataframe tbody tr th {\n",
              "        vertical-align: top;\n",
              "    }\n",
              "\n",
              "    .dataframe thead th {\n",
              "        text-align: right;\n",
              "    }\n",
              "</style>\n",
              "<table border=\"1\" class=\"dataframe\">\n",
              "  <thead>\n",
              "    <tr style=\"text-align: right;\">\n",
              "      <th></th>\n",
              "      <th>Hour</th>\n",
              "      <th>Minutes</th>\n",
              "      <th>Sensor_alpha</th>\n",
              "      <th>Sensor_beta</th>\n",
              "      <th>Sensor_gamma</th>\n",
              "      <th>Sensor_alpha_plus</th>\n",
              "      <th>Sensor_beta_plus</th>\n",
              "      <th>Sensor_gamma_plus</th>\n",
              "      <th>Insect</th>\n",
              "    </tr>\n",
              "  </thead>\n",
              "  <tbody>\n",
              "    <tr>\n",
              "      <th>0</th>\n",
              "      <td>22</td>\n",
              "      <td>26</td>\n",
              "      <td>119.910995</td>\n",
              "      <td>242.838324</td>\n",
              "      <td>-316.819222</td>\n",
              "      <td>250.195048</td>\n",
              "      <td>-53.547777</td>\n",
              "      <td>-112.049983</td>\n",
              "      <td>2</td>\n",
              "    </tr>\n",
              "    <tr>\n",
              "      <th>1</th>\n",
              "      <td>10</td>\n",
              "      <td>16</td>\n",
              "      <td>-90.790536</td>\n",
              "      <td>-269.470767</td>\n",
              "      <td>-182.581844</td>\n",
              "      <td>95.394941</td>\n",
              "      <td>37.291944</td>\n",
              "      <td>48.525180</td>\n",
              "      <td>0</td>\n",
              "    </tr>\n",
              "    <tr>\n",
              "      <th>2</th>\n",
              "      <td>21</td>\n",
              "      <td>42</td>\n",
              "      <td>-20.028003</td>\n",
              "      <td>-147.070212</td>\n",
              "      <td>50.280872</td>\n",
              "      <td>-90.750386</td>\n",
              "      <td>-50.476556</td>\n",
              "      <td>85.399009</td>\n",
              "      <td>1</td>\n",
              "    </tr>\n",
              "    <tr>\n",
              "      <th>3</th>\n",
              "      <td>21</td>\n",
              "      <td>17</td>\n",
              "      <td>-21.258567</td>\n",
              "      <td>0.467070</td>\n",
              "      <td>-86.164153</td>\n",
              "      <td>-21.813529</td>\n",
              "      <td>-209.256006</td>\n",
              "      <td>16.291882</td>\n",
              "      <td>0</td>\n",
              "    </tr>\n",
              "    <tr>\n",
              "      <th>4</th>\n",
              "      <td>18</td>\n",
              "      <td>16</td>\n",
              "      <td>-58.154501</td>\n",
              "      <td>-13.051195</td>\n",
              "      <td>-156.501167</td>\n",
              "      <td>48.392938</td>\n",
              "      <td>-110.008860</td>\n",
              "      <td>-10.285138</td>\n",
              "      <td>2</td>\n",
              "    </tr>\n",
              "  </tbody>\n",
              "</table>\n",
              "</div>\n",
              "      <button class=\"colab-df-convert\" onclick=\"convertToInteractive('df-4d39a7b1-d233-4367-8e41-3e298f362fa0')\"\n",
              "              title=\"Convert this dataframe to an interactive table.\"\n",
              "              style=\"display:none;\">\n",
              "        \n",
              "  <svg xmlns=\"http://www.w3.org/2000/svg\" height=\"24px\"viewBox=\"0 0 24 24\"\n",
              "       width=\"24px\">\n",
              "    <path d=\"M0 0h24v24H0V0z\" fill=\"none\"/>\n",
              "    <path d=\"M18.56 5.44l.94 2.06.94-2.06 2.06-.94-2.06-.94-.94-2.06-.94 2.06-2.06.94zm-11 1L8.5 8.5l.94-2.06 2.06-.94-2.06-.94L8.5 2.5l-.94 2.06-2.06.94zm10 10l.94 2.06.94-2.06 2.06-.94-2.06-.94-.94-2.06-.94 2.06-2.06.94z\"/><path d=\"M17.41 7.96l-1.37-1.37c-.4-.4-.92-.59-1.43-.59-.52 0-1.04.2-1.43.59L10.3 9.45l-7.72 7.72c-.78.78-.78 2.05 0 2.83L4 21.41c.39.39.9.59 1.41.59.51 0 1.02-.2 1.41-.59l7.78-7.78 2.81-2.81c.8-.78.8-2.07 0-2.86zM5.41 20L4 18.59l7.72-7.72 1.47 1.35L5.41 20z\"/>\n",
              "  </svg>\n",
              "      </button>\n",
              "      \n",
              "  <style>\n",
              "    .colab-df-container {\n",
              "      display:flex;\n",
              "      flex-wrap:wrap;\n",
              "      gap: 12px;\n",
              "    }\n",
              "\n",
              "    .colab-df-convert {\n",
              "      background-color: #E8F0FE;\n",
              "      border: none;\n",
              "      border-radius: 50%;\n",
              "      cursor: pointer;\n",
              "      display: none;\n",
              "      fill: #1967D2;\n",
              "      height: 32px;\n",
              "      padding: 0 0 0 0;\n",
              "      width: 32px;\n",
              "    }\n",
              "\n",
              "    .colab-df-convert:hover {\n",
              "      background-color: #E2EBFA;\n",
              "      box-shadow: 0px 1px 2px rgba(60, 64, 67, 0.3), 0px 1px 3px 1px rgba(60, 64, 67, 0.15);\n",
              "      fill: #174EA6;\n",
              "    }\n",
              "\n",
              "    [theme=dark] .colab-df-convert {\n",
              "      background-color: #3B4455;\n",
              "      fill: #D2E3FC;\n",
              "    }\n",
              "\n",
              "    [theme=dark] .colab-df-convert:hover {\n",
              "      background-color: #434B5C;\n",
              "      box-shadow: 0px 1px 3px 1px rgba(0, 0, 0, 0.15);\n",
              "      filter: drop-shadow(0px 1px 2px rgba(0, 0, 0, 0.3));\n",
              "      fill: #FFFFFF;\n",
              "    }\n",
              "  </style>\n",
              "\n",
              "      <script>\n",
              "        const buttonEl =\n",
              "          document.querySelector('#df-4d39a7b1-d233-4367-8e41-3e298f362fa0 button.colab-df-convert');\n",
              "        buttonEl.style.display =\n",
              "          google.colab.kernel.accessAllowed ? 'block' : 'none';\n",
              "\n",
              "        async function convertToInteractive(key) {\n",
              "          const element = document.querySelector('#df-4d39a7b1-d233-4367-8e41-3e298f362fa0');\n",
              "          const dataTable =\n",
              "            await google.colab.kernel.invokeFunction('convertToInteractive',\n",
              "                                                     [key], {});\n",
              "          if (!dataTable) return;\n",
              "\n",
              "          const docLinkHtml = 'Like what you see? Visit the ' +\n",
              "            '<a target=\"_blank\" href=https://colab.research.google.com/notebooks/data_table.ipynb>data table notebook</a>'\n",
              "            + ' to learn more about interactive tables.';\n",
              "          element.innerHTML = '';\n",
              "          dataTable['output_type'] = 'display_data';\n",
              "          await google.colab.output.renderOutput(dataTable, element);\n",
              "          const docLink = document.createElement('div');\n",
              "          docLink.innerHTML = docLinkHtml;\n",
              "          element.appendChild(docLink);\n",
              "        }\n",
              "      </script>\n",
              "    </div>\n",
              "  </div>\n",
              "  "
            ]
          },
          "metadata": {},
          "execution_count": 4
        }
      ]
    },
    {
      "cell_type": "code",
      "source": [
        "df.shape, df.columns"
      ],
      "metadata": {
        "colab": {
          "base_uri": "https://localhost:8080/"
        },
        "id": "yQPynOLM82fQ",
        "outputId": "7fb4a450-9813-4b5e-bcc7-d60c95227c7c"
      },
      "execution_count": 5,
      "outputs": [
        {
          "output_type": "execute_result",
          "data": {
            "text/plain": [
              "((7001, 9),\n",
              " Index(['Hour', 'Minutes', 'Sensor_alpha', 'Sensor_beta', 'Sensor_gamma',\n",
              "        'Sensor_alpha_plus', 'Sensor_beta_plus', 'Sensor_gamma_plus', 'Insect'],\n",
              "       dtype='object'))"
            ]
          },
          "metadata": {},
          "execution_count": 5
        }
      ]
    },
    {
      "cell_type": "code",
      "source": [
        "print(f\"Number of insects 0 --> {df.loc[df['Insect']==0].shape[0]}\\n\")\n",
        "print(f\"Number of insects 1 --> {df.loc[df['Insect']==1].shape[0]}\\n\")\n",
        "print(f\"Number of insects 2 --> {df.loc[df['Insect']==2].shape[0]}\\n\")\n",
        "print(f\">\"*50)\n",
        "print(f\"\\nInsect 0 represents a --> {(df.loc[df['Insect']==0].shape[0]) / df.shape[0]*100 }\\n\")\n",
        "print(f\"Insect 1 represents a --> {(df.loc[df['Insect']==1].shape[0]) / df.shape[0]*100 }\\n\")\n",
        "print(f\"Insect 2 represents a --> {(df.loc[df['Insect']==2].shape[0]) / df.shape[0]*100 }\\n\")\n"
      ],
      "metadata": {
        "id": "ixhiMBga9ZYw",
        "colab": {
          "base_uri": "https://localhost:8080/"
        },
        "outputId": "9e8c7263-2f27-44ad-edb3-144d7d5eccce"
      },
      "execution_count": 6,
      "outputs": [
        {
          "output_type": "stream",
          "name": "stdout",
          "text": [
            "Number of insects 0 --> 3519\n",
            "\n",
            "Number of insects 1 --> 2793\n",
            "\n",
            "Number of insects 2 --> 689\n",
            "\n",
            ">>>>>>>>>>>>>>>>>>>>>>>>>>>>>>>>>>>>>>>>>>>>>>>>>>\n",
            "\n",
            "Insect 0 represents a --> 50.26424796457649\n",
            "\n",
            "Insect 1 represents a --> 39.894300814169405\n",
            "\n",
            "Insect 2 represents a --> 9.841451221254106\n",
            "\n"
          ]
        }
      ]
    },
    {
      "cell_type": "code",
      "source": [
        "np.sort(df['Hour'].unique())"
      ],
      "metadata": {
        "colab": {
          "base_uri": "https://localhost:8080/"
        },
        "id": "VARLLiHqX78v",
        "outputId": "fb174627-aaf9-44c9-8d1e-75d192b5312d"
      },
      "execution_count": 7,
      "outputs": [
        {
          "output_type": "execute_result",
          "data": {
            "text/plain": [
              "array([ 1,  2,  3,  4,  5,  6,  7,  8,  9, 10, 11, 12, 13, 14, 15, 16, 17, 18, 19, 20, 21, 22, 23])"
            ]
          },
          "metadata": {},
          "execution_count": 7
        }
      ]
    },
    {
      "cell_type": "code",
      "source": [
        "# df['Timestamp'] = pd.to_datetime(df[['Hour', 'Minutes']], format='%H:%M') "
      ],
      "metadata": {
        "id": "8CcYgKOoY98X"
      },
      "execution_count": 8,
      "outputs": []
    },
    {
      "cell_type": "code",
      "source": [
        "sns.set(rc={'figure.figsize':(15,15)})\n",
        "sns.histplot(data=df , x='Hour', hue='Insect', kde=True)"
      ],
      "metadata": {
        "colab": {
          "base_uri": "https://localhost:8080/",
          "height": 900
        },
        "id": "-7UaUM85T32Y",
        "outputId": "07287b7b-35a4-438f-e5fb-10f23be73f5b"
      },
      "execution_count": 9,
      "outputs": [
        {
          "output_type": "execute_result",
          "data": {
            "text/plain": [
              "<matplotlib.axes._subplots.AxesSubplot at 0x7f2067379850>"
            ]
          },
          "metadata": {},
          "execution_count": 9
        },
        {
          "output_type": "display_data",
          "data": {
            "text/plain": [
              "<Figure size 1080x1080 with 1 Axes>"
            ],
            "image/png": "[encoded data removed]"
          },
          "metadata": {}
        }
      ]
    },
    {
      "cell_type": "markdown",
      "source": [
        "We can see how almost all insects are grouped at the night. Bearing in mind insect 2 only represents the 10%, it can be seen how at 23h, a big part of the bar corresponds to them.\n",
        "It is also visible the skewness of insect 1, between 20h and 22h. Meanwhile, insect 0 seems to be most equally distributed among all night. Again, we are working with unbalanced classes!\n",
        "\n",
        "Let's try to see the mean of the sensors for each type of insect."
      ],
      "metadata": {
        "id": "1iefH62DX5mH"
      }
    },
    {
      "cell_type": "code",
      "source": [
        "import os"
      ],
      "metadata": {
        "id": "jojvRApqO4lA"
      },
      "execution_count": 10,
      "outputs": []
    },
    {
      "cell_type": "code",
      "source": [
        "for insect in np.sort(df['Insect'].unique()):\n",
        "  # Create specific folders\n",
        "  cwd = \"/content/drive/MyDrive/Colab Notebooks/Insects_Hackathon\"\n",
        "  os.makedirs(os.path.dirname(f'{cwd}/Insect_{insect}/'), exist_ok=True)\n",
        "  \n",
        "  print(f\"\\nInsect --> {insect}\")\n",
        "\n",
        "  for col in df.columns[2:-1]:\n",
        "    print(f\"The mean for {col} is : {np.mean(df.loc[df['Insect']==insect][col])}\")\n",
        "    print(f\"The standard deviation for {col} is : {np.std(df.loc[df['Insect']==insect][col])}\")\n",
        "    # Diferent plots for each insect and column.\n",
        "    sns.boxplot(df.loc[df['Insect']==insect][col])\n",
        "    plt.title(f'Boxplot for {col}')\n",
        "    plt.savefig(f\"{cwd}/Insect_{insect}/{col}_Boxplot.png\")\n",
        "    plt.clf()\n",
        "\n",
        "    sns.histplot(x=df.loc[df['Insect']==insect][col])\n",
        "    plt.title(f\"Histogram for {col}\")\n",
        "    plt.savefig(f\"{cwd}/Insect_{insect}/{col}_Histogram.png\")\n",
        "    plt.clf()\n"
      ],
      "metadata": {
        "colab": {
          "base_uri": "https://localhost:8080/",
          "height": 1000
        },
        "id": "ZJMsUVauLLGL",
        "outputId": "7d43a8cb-4ae2-4e8a-a004-a955903369b7"
      },
      "execution_count": 13,
      "outputs": [
        {
          "output_type": "stream",
          "name": "stdout",
          "text": [
            "\n",
            "Insect --> 0\n",
            "The mean for Sensor_alpha is : -0.5399010063646679\n",
            "The standard deviation for Sensor_alpha is : 99.19814061164008\n"
          ]
        },
        {
          "output_type": "stream",
          "name": "stderr",
          "text": [
            "/usr/local/lib/python3.7/dist-packages/seaborn/_decorators.py:43: FutureWarning: Pass the following variable as a keyword arg: x. From version 0.12, the only valid positional argument will be `data`, and passing other arguments without an explicit keyword will result in an error or misinterpretation.\n",
            "  FutureWarning\n"
          ]
        },
        {
          "output_type": "stream",
          "name": "stdout",
          "text": [
            "The mean for Sensor_beta is : -72.94005358748252\n",
            "The standard deviation for Sensor_beta is : 125.72956306283147\n"
          ]
        },
        {
          "output_type": "stream",
          "name": "stderr",
          "text": [
            "/usr/local/lib/python3.7/dist-packages/seaborn/_decorators.py:43: FutureWarning: Pass the following variable as a keyword arg: x. From version 0.12, the only valid positional argument will be `data`, and passing other arguments without an explicit keyword will result in an error or misinterpretation.\n",
            "  FutureWarning\n"
          ]
        },
        {
          "output_type": "stream",
          "name": "stdout",
          "text": [
            "The mean for Sensor_gamma is : -0.47944243530214736\n",
            "The standard deviation for Sensor_gamma is : 110.97282663068222\n"
          ]
        },
        {
          "output_type": "stream",
          "name": "stderr",
          "text": [
            "/usr/local/lib/python3.7/dist-packages/seaborn/_decorators.py:43: FutureWarning: Pass the following variable as a keyword arg: x. From version 0.12, the only valid positional argument will be `data`, and passing other arguments without an explicit keyword will result in an error or misinterpretation.\n",
            "  FutureWarning\n"
          ]
        },
        {
          "output_type": "stream",
          "name": "stdout",
          "text": [
            "The mean for Sensor_alpha_plus is : 69.6705108307462\n",
            "The standard deviation for Sensor_alpha_plus is : 107.2113276125129\n"
          ]
        },
        {
          "output_type": "stream",
          "name": "stderr",
          "text": [
            "/usr/local/lib/python3.7/dist-packages/seaborn/_decorators.py:43: FutureWarning: Pass the following variable as a keyword arg: x. From version 0.12, the only valid positional argument will be `data`, and passing other arguments without an explicit keyword will result in an error or misinterpretation.\n",
            "  FutureWarning\n"
          ]
        },
        {
          "output_type": "stream",
          "name": "stdout",
          "text": [
            "The mean for Sensor_beta_plus is : -1.4821692241017\n",
            "The standard deviation for Sensor_beta_plus is : 100.51486160034223\n"
          ]
        },
        {
          "output_type": "stream",
          "name": "stderr",
          "text": [
            "/usr/local/lib/python3.7/dist-packages/seaborn/_decorators.py:43: FutureWarning: Pass the following variable as a keyword arg: x. From version 0.12, the only valid positional argument will be `data`, and passing other arguments without an explicit keyword will result in an error or misinterpretation.\n",
            "  FutureWarning\n"
          ]
        },
        {
          "output_type": "stream",
          "name": "stdout",
          "text": [
            "The mean for Sensor_gamma_plus is : -1.1669437234999545\n",
            "The standard deviation for Sensor_gamma_plus is : 101.11860269617637\n"
          ]
        },
        {
          "output_type": "stream",
          "name": "stderr",
          "text": [
            "/usr/local/lib/python3.7/dist-packages/seaborn/_decorators.py:43: FutureWarning: Pass the following variable as a keyword arg: x. From version 0.12, the only valid positional argument will be `data`, and passing other arguments without an explicit keyword will result in an error or misinterpretation.\n",
            "  FutureWarning\n"
          ]
        },
        {
          "output_type": "stream",
          "name": "stdout",
          "text": [
            "\n",
            "Insect --> 1\n",
            "The mean for Sensor_alpha is : 1.6521728732347283\n",
            "The standard deviation for Sensor_alpha is : 98.57257896296484\n"
          ]
        },
        {
          "output_type": "stream",
          "name": "stderr",
          "text": [
            "/usr/local/lib/python3.7/dist-packages/seaborn/_decorators.py:43: FutureWarning: Pass the following variable as a keyword arg: x. From version 0.12, the only valid positional argument will be `data`, and passing other arguments without an explicit keyword will result in an error or misinterpretation.\n",
            "  FutureWarning\n"
          ]
        },
        {
          "output_type": "stream",
          "name": "stdout",
          "text": [
            "The mean for Sensor_beta is : -2.6453650855824957\n",
            "The standard deviation for Sensor_beta is : 126.21300826346702\n"
          ]
        },
        {
          "output_type": "stream",
          "name": "stderr",
          "text": [
            "/usr/local/lib/python3.7/dist-packages/seaborn/_decorators.py:43: FutureWarning: Pass the following variable as a keyword arg: x. From version 0.12, the only valid positional argument will be `data`, and passing other arguments without an explicit keyword will result in an error or misinterpretation.\n",
            "  FutureWarning\n"
          ]
        },
        {
          "output_type": "stream",
          "name": "stdout",
          "text": [
            "The mean for Sensor_gamma is : 4.744292613414693\n",
            "The standard deviation for Sensor_gamma is : 118.90391358203858\n"
          ]
        },
        {
          "output_type": "stream",
          "name": "stderr",
          "text": [
            "/usr/local/lib/python3.7/dist-packages/seaborn/_decorators.py:43: FutureWarning: Pass the following variable as a keyword arg: x. From version 0.12, the only valid positional argument will be `data`, and passing other arguments without an explicit keyword will result in an error or misinterpretation.\n",
            "  FutureWarning\n"
          ]
        },
        {
          "output_type": "stream",
          "name": "stdout",
          "text": [
            "The mean for Sensor_alpha_plus is : -69.64013071553131\n",
            "The standard deviation for Sensor_alpha_plus is : 83.24567244067784\n"
          ]
        },
        {
          "output_type": "stream",
          "name": "stderr",
          "text": [
            "/usr/local/lib/python3.7/dist-packages/seaborn/_decorators.py:43: FutureWarning: Pass the following variable as a keyword arg: x. From version 0.12, the only valid positional argument will be `data`, and passing other arguments without an explicit keyword will result in an error or misinterpretation.\n",
            "  FutureWarning\n"
          ]
        },
        {
          "output_type": "stream",
          "name": "stdout",
          "text": [
            "The mean for Sensor_beta_plus is : 1.0336086124715158\n",
            "The standard deviation for Sensor_beta_plus is : 99.84236124614651\n"
          ]
        },
        {
          "output_type": "stream",
          "name": "stderr",
          "text": [
            "/usr/local/lib/python3.7/dist-packages/seaborn/_decorators.py:43: FutureWarning: Pass the following variable as a keyword arg: x. From version 0.12, the only valid positional argument will be `data`, and passing other arguments without an explicit keyword will result in an error or misinterpretation.\n",
            "  FutureWarning\n"
          ]
        },
        {
          "output_type": "stream",
          "name": "stdout",
          "text": [
            "The mean for Sensor_gamma_plus is : 1.2270712815791305\n",
            "The standard deviation for Sensor_gamma_plus is : 100.53535548966933\n"
          ]
        },
        {
          "output_type": "stream",
          "name": "stderr",
          "text": [
            "/usr/local/lib/python3.7/dist-packages/seaborn/_decorators.py:43: FutureWarning: Pass the following variable as a keyword arg: x. From version 0.12, the only valid positional argument will be `data`, and passing other arguments without an explicit keyword will result in an error or misinterpretation.\n",
            "  FutureWarning\n"
          ]
        },
        {
          "output_type": "stream",
          "name": "stdout",
          "text": [
            "\n",
            "Insect --> 2\n",
            "The mean for Sensor_alpha is : 0.9086559583202065\n",
            "The standard deviation for Sensor_alpha is : 102.52548642096174\n"
          ]
        },
        {
          "output_type": "stream",
          "name": "stderr",
          "text": [
            "/usr/local/lib/python3.7/dist-packages/seaborn/_decorators.py:43: FutureWarning: Pass the following variable as a keyword arg: x. From version 0.12, the only valid positional argument will be `data`, and passing other arguments without an explicit keyword will result in an error or misinterpretation.\n",
            "  FutureWarning\n"
          ]
        },
        {
          "output_type": "stream",
          "name": "stdout",
          "text": [
            "The mean for Sensor_beta is : 78.68760499140316\n",
            "The standard deviation for Sensor_beta is : 101.96046765842542\n"
          ]
        },
        {
          "output_type": "stream",
          "name": "stderr",
          "text": [
            "/usr/local/lib/python3.7/dist-packages/seaborn/_decorators.py:43: FutureWarning: Pass the following variable as a keyword arg: x. From version 0.12, the only valid positional argument will be `data`, and passing other arguments without an explicit keyword will result in an error or misinterpretation.\n",
            "  FutureWarning\n"
          ]
        },
        {
          "output_type": "stream",
          "name": "stdout",
          "text": [
            "The mean for Sensor_gamma is : -73.93629618850886\n",
            "The standard deviation for Sensor_gamma is : 104.68281225680501\n"
          ]
        },
        {
          "output_type": "stream",
          "name": "stderr",
          "text": [
            "/usr/local/lib/python3.7/dist-packages/seaborn/_decorators.py:43: FutureWarning: Pass the following variable as a keyword arg: x. From version 0.12, the only valid positional argument will be `data`, and passing other arguments without an explicit keyword will result in an error or misinterpretation.\n",
            "  FutureWarning\n"
          ]
        },
        {
          "output_type": "stream",
          "name": "stdout",
          "text": [
            "The mean for Sensor_alpha_plus is : -0.49642049001988453\n",
            "The standard deviation for Sensor_alpha_plus is : 145.96965791310626\n"
          ]
        },
        {
          "output_type": "stream",
          "name": "stderr",
          "text": [
            "/usr/local/lib/python3.7/dist-packages/seaborn/_decorators.py:43: FutureWarning: Pass the following variable as a keyword arg: x. From version 0.12, the only valid positional argument will be `data`, and passing other arguments without an explicit keyword will result in an error or misinterpretation.\n",
            "  FutureWarning\n"
          ]
        },
        {
          "output_type": "stream",
          "name": "stdout",
          "text": [
            "The mean for Sensor_beta_plus is : -4.321012054581824\n",
            "The standard deviation for Sensor_beta_plus is : 98.1720909196963\n"
          ]
        },
        {
          "output_type": "stream",
          "name": "stderr",
          "text": [
            "/usr/local/lib/python3.7/dist-packages/seaborn/_decorators.py:43: FutureWarning: Pass the following variable as a keyword arg: x. From version 0.12, the only valid positional argument will be `data`, and passing other arguments without an explicit keyword will result in an error or misinterpretation.\n",
            "  FutureWarning\n"
          ]
        },
        {
          "output_type": "stream",
          "name": "stdout",
          "text": [
            "The mean for Sensor_gamma_plus is : -4.648800590678871\n",
            "The standard deviation for Sensor_gamma_plus is : 97.27105100686386\n"
          ]
        },
        {
          "output_type": "stream",
          "name": "stderr",
          "text": [
            "/usr/local/lib/python3.7/dist-packages/seaborn/_decorators.py:43: FutureWarning: Pass the following variable as a keyword arg: x. From version 0.12, the only valid positional argument will be `data`, and passing other arguments without an explicit keyword will result in an error or misinterpretation.\n",
            "  FutureWarning\n"
          ]
        },
        {
          "output_type": "display_data",
          "data": {
            "text/plain": [
              "<Figure size 1080x1080 with 0 Axes>"
            ]
          },
          "metadata": {}
        }
      ]
    },
    {
      "cell_type": "code",
      "source": [
        ""
      ],
      "metadata": {
        "id": "R7mso4IRLb-j"
      },
      "execution_count": 13,
      "outputs": []
    },
    {
      "cell_type": "markdown",
      "source": [
        "One easy thing we could try is to find hidden pattern with Autoencoders, which reduces the space. Inside the latent space we can try to find clusters, and maybe they correspond to the insect type. "
      ],
      "metadata": {
        "id": "ANAsjf-FJ3xm"
      }
    },
    {
      "cell_type": "code",
      "source": [
        ""
      ],
      "metadata": {
        "id": "Up5wm_lFXk1p"
      },
      "execution_count": null,
      "outputs": []
    }
  ]
}